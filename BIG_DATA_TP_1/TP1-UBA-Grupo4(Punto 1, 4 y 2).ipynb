{
 "cells": [
  {
   "cell_type": "markdown",
   "metadata": {
    "collapsed": true,
    "id": "Dh8MkXaG-c9Y",
    "jupyter": {
     "outputs_hidden": true
    }
   },
   "source": [
    "# Big Data y Machine Learning (UBA) -  2025\n",
    "\n",
    "## Trabajo Práctico 1: Jugando con APIs y WebScraping "
   ]
  },
  {
   "cell_type": "markdown",
   "metadata": {
    "id": "RhBlm6mZ-c9e"
   },
   "source": [
    "### Reglas de formato y presentación\n",
    "- El trabajo debe estar debidamente documentado comentado (utilizando #) para que tanto los docentes como sus compañeros puedan comprender el código fácilmente.\n",
    "\n",
    "- El mismo debe ser completado en este Jupyter Notebook y entregado como tal, es decir en un archivo .ipynb\n"
   ]
  },
  {
   "cell_type": "markdown",
   "metadata": {
    "id": "ZEjGaa4U-c9g"
   },
   "source": [
    "### Fecha de entrega:\n",
    "Viernes 4 de Abril a las 13:00 hs"
   ]
  },
  {
   "cell_type": "markdown",
   "metadata": {
    "id": "N9TU2y7E-c9h"
   },
   "source": [
    "### Modalidad de entrega\n",
    "- Al finalizar el trabajo práctico deben hacer un último <i>commit</i> en su repositorio de GitHub llamado “Entrega final del tp”. \n",
    "- Asegurense de haber creado una carpeta llamada TP1. Este Jupyter Notebook y el correspondiente al TP1 deben estar dentro de esa carpeta.\n",
    "- También deben enviar el link de su repositorio -para que pueda ser clonado y corregido- a mi correo 25RO35480961@campus.economicas.uba.ar. Usar de asunto de email <i>\"Big Data - TP 1 - Grupo #\"</i> y nombrar el archivo <i>\"TP1_Grupo #\"</i> donde # es el número de grupo que le fue asignado.\n",
    "- La última versión en el repositorio es la que será evaluada. Por lo que es importante que: \n",
    "    - No envien el correo hasta no haber terminado y estar seguros de que han hecho el <i>commit y push</i> a la versión final que quieren entregar. \n",
    "    - No hagan nuevos <i>push</i> despues de haber entregado su versión final. Esto generaría confusión acerca de que versión es la que quieren que se les corrija.\n",
    "- En resumen, la carpeta del repositorio debe incluir:\n",
    "    - El codigo\n",
    "    - Un documento Word (Parte A) donde esten las figuras y una breve descripción de las mismas.\n",
    "    - El excel con los links webscrappeados (Parte B)"
   ]
  },
  {
   "cell_type": "markdown",
   "metadata": {},
   "source": [
    "### Parte A"
   ]
  },
  {
   "cell_type": "markdown",
   "metadata": {
    "id": "ZXbrPraa-c9i"
   },
   "source": [
    "#### Ejercicio 1 - Jugando con APIs\n",
    "Usando la API del Banco Mundial [link](https://wbdata.readthedocs.io/en/stable/) , obtener dos series de indicadores para dos paises a elección en una consulta de búsqueda. Pueden buscar serie de indicadores de su interés."
   ]
  },
  {
   "cell_type": "code",
   "execution_count": 1,
   "metadata": {},
   "outputs": [
    {
     "name": "stdout",
     "output_type": "stream",
     "text": [
      "Requirement already satisfied: wbdata in c:\\users\\sonny\\anaconda3\\lib\\site-packages (1.0.0)\n",
      "Requirement already satisfied: appdirs<2.0,>=1.4 in c:\\users\\sonny\\anaconda3\\lib\\site-packages (from wbdata) (1.4.4)\n",
      "Requirement already satisfied: backoff<3.0.0,>=2.2.1 in c:\\users\\sonny\\anaconda3\\lib\\site-packages (from wbdata) (2.2.1)\n",
      "Requirement already satisfied: cachetools<6.0.0,>=5.3.2 in c:\\users\\sonny\\anaconda3\\lib\\site-packages (from wbdata) (5.3.3)\n",
      "Requirement already satisfied: dateparser<2.0.0,>=1.2.0 in c:\\users\\sonny\\anaconda3\\lib\\site-packages (from wbdata) (1.2.1)\n",
      "Requirement already satisfied: decorator<6.0.0,>=5.1.1 in c:\\users\\sonny\\anaconda3\\lib\\site-packages (from wbdata) (5.1.1)\n",
      "Requirement already satisfied: requests<3.0,>=2.0 in c:\\users\\sonny\\anaconda3\\lib\\site-packages (from wbdata) (2.32.3)\n",
      "Requirement already satisfied: shelved-cache<0.4.0,>=0.3.1 in c:\\users\\sonny\\anaconda3\\lib\\site-packages (from wbdata) (0.3.1)\n",
      "Requirement already satisfied: tabulate<0.9.0,>=0.8.5 in c:\\users\\sonny\\anaconda3\\lib\\site-packages (from wbdata) (0.8.10)\n",
      "Requirement already satisfied: python-dateutil>=2.7.0 in c:\\users\\sonny\\anaconda3\\lib\\site-packages (from dateparser<2.0.0,>=1.2.0->wbdata) (2.9.0.post0)\n",
      "Requirement already satisfied: pytz>=2024.2 in c:\\users\\sonny\\anaconda3\\lib\\site-packages (from dateparser<2.0.0,>=1.2.0->wbdata) (2025.2)\n",
      "Requirement already satisfied: regex!=2019.02.19,!=2021.8.27,>=2015.06.24 in c:\\users\\sonny\\anaconda3\\lib\\site-packages (from dateparser<2.0.0,>=1.2.0->wbdata) (2024.9.11)\n",
      "Requirement already satisfied: tzlocal>=0.2 in c:\\users\\sonny\\anaconda3\\lib\\site-packages (from dateparser<2.0.0,>=1.2.0->wbdata) (5.3.1)\n",
      "Requirement already satisfied: charset-normalizer<4,>=2 in c:\\users\\sonny\\anaconda3\\lib\\site-packages (from requests<3.0,>=2.0->wbdata) (3.3.2)\n",
      "Requirement already satisfied: idna<4,>=2.5 in c:\\users\\sonny\\anaconda3\\lib\\site-packages (from requests<3.0,>=2.0->wbdata) (3.7)\n",
      "Requirement already satisfied: urllib3<3,>=1.21.1 in c:\\users\\sonny\\anaconda3\\lib\\site-packages (from requests<3.0,>=2.0->wbdata) (2.2.3)\n",
      "Requirement already satisfied: certifi>=2017.4.17 in c:\\users\\sonny\\anaconda3\\lib\\site-packages (from requests<3.0,>=2.0->wbdata) (2025.1.31)\n",
      "Requirement already satisfied: six>=1.5 in c:\\users\\sonny\\anaconda3\\lib\\site-packages (from python-dateutil>=2.7.0->dateparser<2.0.0,>=1.2.0->wbdata) (1.16.0)\n",
      "Requirement already satisfied: tzdata in c:\\users\\sonny\\anaconda3\\lib\\site-packages (from tzlocal>=0.2->dateparser<2.0.0,>=1.2.0->wbdata) (2023.3)\n"
     ]
    }
   ],
   "source": [
    "# Resolver acá\n",
    "import sys\n",
    "!pip install wbdata\n"
   ]
  },
  {
   "cell_type": "code",
   "execution_count": 3,
   "metadata": {},
   "outputs": [],
   "source": [
    "import wbdata\n",
    "import pandas as pd\n",
    "#Importamos todo lo necesario para realizar la extracción de datos"
   ]
  },
  {
   "cell_type": "code",
   "execution_count": 139,
   "metadata": {},
   "outputs": [],
   "source": [
    "\n",
    "#Realizamos la carga de datos. Primero Argentina, segundo Brasil\n",
    "\n",
    "indicadores = {'NY.GDP.MKTP.CD':'GDP (current US$)',\n",
    "               'NY.GDP.PCAP.CD':'GDP per capita (current US$)'}\n",
    "\n",
    "data = wbdata.get_dataframe(indicadores, country=['ARG','BRA'])\n",
    "\n",
    "#Renombramos la columna \"country\" por la de \"país\"\n",
    "data = data.reset_index() \n",
    "data[\"País\"] = data[\"country\"]\n",
    "\n",
    "data = data.drop(columns=[\"country\"])\n",
    "\n"
   ]
  },
  {
   "cell_type": "code",
   "execution_count": 149,
   "metadata": {},
   "outputs": [],
   "source": [
    "\n",
    "\n",
    "#Pivoteamos el DataFrame para tener los valores en columnas separadas por país\n",
    "df = data.pivot(index=\"date\", columns=\"País\", values=list(indicadores.values()))\n",
    "\n",
    "df = data.sort_index(ascending=True)  #<---Aquí corregimos un error presente en las versiones anteriores (donde dice \"data\", estaba mal escrito \"data_f\"\n",
    "\n"
   ]
  },
  {
   "cell_type": "code",
   "execution_count": 151,
   "metadata": {},
   "outputs": [
    {
     "name": "stdout",
     "output_type": "stream",
     "text": [
      "   date  GDP (current US$)  GDP per capita (current US$)       País\n",
      "0  2023       6.460753e+11                  14187.482725  Argentina\n",
      "1  2022       6.327901e+11                  13935.681111  Argentina\n",
      "2  2021       4.865641e+11                  10738.017922  Argentina\n",
      "3  2020       3.857405e+11                   8535.599380  Argentina\n",
      "4  2019       4.477547e+11                   9955.974787  Argentina\n"
     ]
    }
   ],
   "source": [
    "#Probamos imprimiendo las primeras filas del dataframe\n",
    "print(df.head())"
   ]
  },
  {
   "cell_type": "code",
   "execution_count": 153,
   "metadata": {},
   "outputs": [
    {
     "data": {
      "text/html": [
       "<div>\n",
       "<style scoped>\n",
       "    .dataframe tbody tr th:only-of-type {\n",
       "        vertical-align: middle;\n",
       "    }\n",
       "\n",
       "    .dataframe tbody tr th {\n",
       "        vertical-align: top;\n",
       "    }\n",
       "\n",
       "    .dataframe thead th {\n",
       "        text-align: right;\n",
       "    }\n",
       "</style>\n",
       "<table border=\"1\" class=\"dataframe\">\n",
       "  <thead>\n",
       "    <tr style=\"text-align: right;\">\n",
       "      <th></th>\n",
       "      <th>date</th>\n",
       "      <th>GDP (current US$)</th>\n",
       "      <th>GDP per capita (current US$)</th>\n",
       "      <th>País</th>\n",
       "    </tr>\n",
       "  </thead>\n",
       "  <tbody>\n",
       "    <tr>\n",
       "      <th>0</th>\n",
       "      <td>2023</td>\n",
       "      <td>6.460753e+11</td>\n",
       "      <td>14187.482725</td>\n",
       "      <td>Argentina</td>\n",
       "    </tr>\n",
       "    <tr>\n",
       "      <th>1</th>\n",
       "      <td>2022</td>\n",
       "      <td>6.327901e+11</td>\n",
       "      <td>13935.681111</td>\n",
       "      <td>Argentina</td>\n",
       "    </tr>\n",
       "    <tr>\n",
       "      <th>2</th>\n",
       "      <td>2021</td>\n",
       "      <td>4.865641e+11</td>\n",
       "      <td>10738.017922</td>\n",
       "      <td>Argentina</td>\n",
       "    </tr>\n",
       "    <tr>\n",
       "      <th>3</th>\n",
       "      <td>2020</td>\n",
       "      <td>3.857405e+11</td>\n",
       "      <td>8535.599380</td>\n",
       "      <td>Argentina</td>\n",
       "    </tr>\n",
       "    <tr>\n",
       "      <th>4</th>\n",
       "      <td>2019</td>\n",
       "      <td>4.477547e+11</td>\n",
       "      <td>9955.974787</td>\n",
       "      <td>Argentina</td>\n",
       "    </tr>\n",
       "    <tr>\n",
       "      <th>...</th>\n",
       "      <td>...</td>\n",
       "      <td>...</td>\n",
       "      <td>...</td>\n",
       "      <td>...</td>\n",
       "    </tr>\n",
       "    <tr>\n",
       "      <th>123</th>\n",
       "      <td>1964</td>\n",
       "      <td>2.096373e+10</td>\n",
       "      <td>257.259727</td>\n",
       "      <td>Brazil</td>\n",
       "    </tr>\n",
       "    <tr>\n",
       "      <th>124</th>\n",
       "      <td>1963</td>\n",
       "      <td>2.328771e+10</td>\n",
       "      <td>294.169619</td>\n",
       "      <td>Brazil</td>\n",
       "    </tr>\n",
       "    <tr>\n",
       "      <th>125</th>\n",
       "      <td>1962</td>\n",
       "      <td>1.923175e+10</td>\n",
       "      <td>250.200573</td>\n",
       "      <td>Brazil</td>\n",
       "    </tr>\n",
       "    <tr>\n",
       "      <th>126</th>\n",
       "      <td>1961</td>\n",
       "      <td>1.727594e+10</td>\n",
       "      <td>231.564063</td>\n",
       "      <td>Brazil</td>\n",
       "    </tr>\n",
       "    <tr>\n",
       "      <th>127</th>\n",
       "      <td>1960</td>\n",
       "      <td>1.703047e+10</td>\n",
       "      <td>235.266010</td>\n",
       "      <td>Brazil</td>\n",
       "    </tr>\n",
       "  </tbody>\n",
       "</table>\n",
       "<p>128 rows × 4 columns</p>\n",
       "</div>"
      ],
      "text/plain": [
       "     date  GDP (current US$)  GDP per capita (current US$)       País\n",
       "0    2023       6.460753e+11                  14187.482725  Argentina\n",
       "1    2022       6.327901e+11                  13935.681111  Argentina\n",
       "2    2021       4.865641e+11                  10738.017922  Argentina\n",
       "3    2020       3.857405e+11                   8535.599380  Argentina\n",
       "4    2019       4.477547e+11                   9955.974787  Argentina\n",
       "..    ...                ...                           ...        ...\n",
       "123  1964       2.096373e+10                    257.259727     Brazil\n",
       "124  1963       2.328771e+10                    294.169619     Brazil\n",
       "125  1962       1.923175e+10                    250.200573     Brazil\n",
       "126  1961       1.727594e+10                    231.564063     Brazil\n",
       "127  1960       1.703047e+10                    235.266010     Brazil\n",
       "\n",
       "[128 rows x 4 columns]"
      ]
     },
     "execution_count": 153,
     "metadata": {},
     "output_type": "execute_result"
    }
   ],
   "source": [
    "#Visualizamos correctament todo el dataframe\n",
    "df"
   ]
  },
  {
   "cell_type": "code",
   "execution_count": 165,
   "metadata": {},
   "outputs": [
    {
     "data": {
      "text/html": [
       "<div>\n",
       "<style scoped>\n",
       "    .dataframe tbody tr th:only-of-type {\n",
       "        vertical-align: middle;\n",
       "    }\n",
       "\n",
       "    .dataframe tbody tr th {\n",
       "        vertical-align: top;\n",
       "    }\n",
       "\n",
       "    .dataframe thead th {\n",
       "        text-align: right;\n",
       "    }\n",
       "</style>\n",
       "<table border=\"1\" class=\"dataframe\">\n",
       "  <thead>\n",
       "    <tr style=\"text-align: right;\">\n",
       "      <th></th>\n",
       "      <th>date</th>\n",
       "      <th>GDP (current US$)</th>\n",
       "      <th>GDP per capita (current US$)</th>\n",
       "      <th>País</th>\n",
       "    </tr>\n",
       "  </thead>\n",
       "  <tbody>\n",
       "    <tr>\n",
       "      <th>0</th>\n",
       "      <td>2023</td>\n",
       "      <td>6.460753e+11</td>\n",
       "      <td>14187.482725</td>\n",
       "      <td>Argentina</td>\n",
       "    </tr>\n",
       "    <tr>\n",
       "      <th>1</th>\n",
       "      <td>2022</td>\n",
       "      <td>6.327901e+11</td>\n",
       "      <td>13935.681111</td>\n",
       "      <td>Argentina</td>\n",
       "    </tr>\n",
       "    <tr>\n",
       "      <th>2</th>\n",
       "      <td>2021</td>\n",
       "      <td>4.865641e+11</td>\n",
       "      <td>10738.017922</td>\n",
       "      <td>Argentina</td>\n",
       "    </tr>\n",
       "    <tr>\n",
       "      <th>3</th>\n",
       "      <td>2020</td>\n",
       "      <td>3.857405e+11</td>\n",
       "      <td>8535.599380</td>\n",
       "      <td>Argentina</td>\n",
       "    </tr>\n",
       "    <tr>\n",
       "      <th>4</th>\n",
       "      <td>2019</td>\n",
       "      <td>4.477547e+11</td>\n",
       "      <td>9955.974787</td>\n",
       "      <td>Argentina</td>\n",
       "    </tr>\n",
       "    <tr>\n",
       "      <th>5</th>\n",
       "      <td>2018</td>\n",
       "      <td>5.248199e+11</td>\n",
       "      <td>11752.799892</td>\n",
       "      <td>Argentina</td>\n",
       "    </tr>\n",
       "    <tr>\n",
       "      <th>6</th>\n",
       "      <td>2017</td>\n",
       "      <td>6.436284e+11</td>\n",
       "      <td>14532.500931</td>\n",
       "      <td>Argentina</td>\n",
       "    </tr>\n",
       "    <tr>\n",
       "      <th>7</th>\n",
       "      <td>2016</td>\n",
       "      <td>5.575323e+11</td>\n",
       "      <td>12699.962314</td>\n",
       "      <td>Argentina</td>\n",
       "    </tr>\n",
       "    <tr>\n",
       "      <th>8</th>\n",
       "      <td>2015</td>\n",
       "      <td>5.947493e+11</td>\n",
       "      <td>13679.626498</td>\n",
       "      <td>Argentina</td>\n",
       "    </tr>\n",
       "    <tr>\n",
       "      <th>9</th>\n",
       "      <td>2014</td>\n",
       "      <td>5.263197e+11</td>\n",
       "      <td>12233.144412</td>\n",
       "      <td>Argentina</td>\n",
       "    </tr>\n",
       "    <tr>\n",
       "      <th>10</th>\n",
       "      <td>2013</td>\n",
       "      <td>5.520251e+11</td>\n",
       "      <td>12963.675773</td>\n",
       "      <td>Argentina</td>\n",
       "    </tr>\n",
       "    <tr>\n",
       "      <th>11</th>\n",
       "      <td>2012</td>\n",
       "      <td>5.459824e+11</td>\n",
       "      <td>12949.717487</td>\n",
       "      <td>Argentina</td>\n",
       "    </tr>\n",
       "    <tr>\n",
       "      <th>12</th>\n",
       "      <td>2011</td>\n",
       "      <td>5.301581e+11</td>\n",
       "      <td>12704.283182</td>\n",
       "      <td>Argentina</td>\n",
       "    </tr>\n",
       "    <tr>\n",
       "      <th>13</th>\n",
       "      <td>2010</td>\n",
       "      <td>4.236274e+11</td>\n",
       "      <td>10260.131311</td>\n",
       "      <td>Argentina</td>\n",
       "    </tr>\n",
       "    <tr>\n",
       "      <th>14</th>\n",
       "      <td>2009</td>\n",
       "      <td>3.329765e+11</td>\n",
       "      <td>8150.235270</td>\n",
       "      <td>Argentina</td>\n",
       "    </tr>\n",
       "    <tr>\n",
       "      <th>15</th>\n",
       "      <td>2008</td>\n",
       "      <td>3.615580e+11</td>\n",
       "      <td>8944.110266</td>\n",
       "      <td>Argentina</td>\n",
       "    </tr>\n",
       "    <tr>\n",
       "      <th>16</th>\n",
       "      <td>2007</td>\n",
       "      <td>2.875305e+11</td>\n",
       "      <td>7185.251551</td>\n",
       "      <td>Argentina</td>\n",
       "    </tr>\n",
       "    <tr>\n",
       "      <th>17</th>\n",
       "      <td>2006</td>\n",
       "      <td>2.325573e+11</td>\n",
       "      <td>5869.380290</td>\n",
       "      <td>Argentina</td>\n",
       "    </tr>\n",
       "    <tr>\n",
       "      <th>18</th>\n",
       "      <td>2005</td>\n",
       "      <td>1.987371e+11</td>\n",
       "      <td>5067.653423</td>\n",
       "      <td>Argentina</td>\n",
       "    </tr>\n",
       "    <tr>\n",
       "      <th>19</th>\n",
       "      <td>2004</td>\n",
       "      <td>1.646579e+11</td>\n",
       "      <td>4242.020991</td>\n",
       "      <td>Argentina</td>\n",
       "    </tr>\n",
       "  </tbody>\n",
       "</table>\n",
       "</div>"
      ],
      "text/plain": [
       "    date  GDP (current US$)  GDP per capita (current US$)       País\n",
       "0   2023       6.460753e+11                  14187.482725  Argentina\n",
       "1   2022       6.327901e+11                  13935.681111  Argentina\n",
       "2   2021       4.865641e+11                  10738.017922  Argentina\n",
       "3   2020       3.857405e+11                   8535.599380  Argentina\n",
       "4   2019       4.477547e+11                   9955.974787  Argentina\n",
       "5   2018       5.248199e+11                  11752.799892  Argentina\n",
       "6   2017       6.436284e+11                  14532.500931  Argentina\n",
       "7   2016       5.575323e+11                  12699.962314  Argentina\n",
       "8   2015       5.947493e+11                  13679.626498  Argentina\n",
       "9   2014       5.263197e+11                  12233.144412  Argentina\n",
       "10  2013       5.520251e+11                  12963.675773  Argentina\n",
       "11  2012       5.459824e+11                  12949.717487  Argentina\n",
       "12  2011       5.301581e+11                  12704.283182  Argentina\n",
       "13  2010       4.236274e+11                  10260.131311  Argentina\n",
       "14  2009       3.329765e+11                   8150.235270  Argentina\n",
       "15  2008       3.615580e+11                   8944.110266  Argentina\n",
       "16  2007       2.875305e+11                   7185.251551  Argentina\n",
       "17  2006       2.325573e+11                   5869.380290  Argentina\n",
       "18  2005       1.987371e+11                   5067.653423  Argentina\n",
       "19  2004       1.646579e+11                   4242.020991  Argentina"
      ]
     },
     "execution_count": 165,
     "metadata": {},
     "output_type": "execute_result"
    }
   ],
   "source": [
    "df.head(20) #Filtramos la visualización solamente a los últimos 20 años"
   ]
  },
  {
   "cell_type": "markdown",
   "metadata": {},
   "source": [
    "#### Ejercicio 2 - Repaso de Pandas\n",
    "Realicen una estadistica descriptiva de ambas series de indicadores comparando los dos países."
   ]
  },
  {
   "cell_type": "code",
   "execution_count": 168,
   "metadata": {},
   "outputs": [],
   "source": [
    "from datetime import datetime"
   ]
  },
  {
   "cell_type": "code",
   "execution_count": 170,
   "metadata": {},
   "outputs": [],
   "source": [
    "# Definimos los indicadores de interés\n",
    "indicadores = {\n",
    "    'NY.GDP.MKTP.CD': 'GDP (current US$)',\n",
    "    'NY.GDP.PCAP.CD': 'GDP per capita (current US$)'\n",
    "}\n",
    "\n",
    "data = wbdata.get_dataframe(indicadores, country=['ARG', 'BRA'])\n",
    "\n",
    "#Convertimos el índice de fecha en tipo datetime para filtrado\n",
    "data = data.reset_index()\n",
    "data['date'] = pd.to_datetime(data['date'])\n",
    "\n",
    "#Igual que en el punto anterior, buscamos los últimos 20 años para simplificar\n",
    "anio_actual = datetime.now().year\n",
    "df_ultimos_20 = data[data['date'].dt.year >= (anio_actual - 20)]\n",
    "\n",
    "#Volvemos a ordenar los datos de forma descendente por fecha\n",
    "df_ultimos_20 = df_ultimos_20.sort_values(by='date', ascending=False)\n",
    "\n",
    "#Estadísticas descriptivas por país y variable (MEDIA, MEDIANA, MINIMOS Y MÁXIMOS DE CADA VARIABLE)\n",
    "estadisticas = df_ultimos_20.groupby('country')[list(indicadores.values())].agg(['mean', 'median', 'min', 'max'])\n",
    "\n",
    "# Imprimimos los resultados\n",
    "estadisticas = estadisticas.T  "
   ]
  },
  {
   "cell_type": "code",
   "execution_count": 172,
   "metadata": {},
   "outputs": [
    {
     "data": {
      "text/html": [
       "<div>\n",
       "<style scoped>\n",
       "    .dataframe tbody tr th:only-of-type {\n",
       "        vertical-align: middle;\n",
       "    }\n",
       "\n",
       "    .dataframe tbody tr th {\n",
       "        vertical-align: top;\n",
       "    }\n",
       "\n",
       "    .dataframe thead th {\n",
       "        text-align: right;\n",
       "    }\n",
       "</style>\n",
       "<table border=\"1\" class=\"dataframe\">\n",
       "  <thead>\n",
       "    <tr style=\"text-align: right;\">\n",
       "      <th></th>\n",
       "      <th>country</th>\n",
       "      <th>Argentina</th>\n",
       "      <th>Brazil</th>\n",
       "    </tr>\n",
       "  </thead>\n",
       "  <tbody>\n",
       "    <tr>\n",
       "      <th rowspan=\"4\" valign=\"top\">GDP (current US$)</th>\n",
       "      <th>mean</th>\n",
       "      <td>4.690067e+11</td>\n",
       "      <td>1.879068e+12</td>\n",
       "    </tr>\n",
       "    <tr>\n",
       "      <th>median</th>\n",
       "      <td>5.248199e+11</td>\n",
       "      <td>1.873288e+12</td>\n",
       "    </tr>\n",
       "    <tr>\n",
       "      <th>min</th>\n",
       "      <td>1.987371e+11</td>\n",
       "      <td>8.916338e+11</td>\n",
       "    </tr>\n",
       "    <tr>\n",
       "      <th>max</th>\n",
       "      <td>6.460753e+11</td>\n",
       "      <td>2.616156e+12</td>\n",
       "    </tr>\n",
       "    <tr>\n",
       "      <th rowspan=\"4\" valign=\"top\">GDP per capita (current US$)</th>\n",
       "      <th>mean</th>\n",
       "      <td>1.086028e+04</td>\n",
       "      <td>9.401081e+03</td>\n",
       "    </tr>\n",
       "    <tr>\n",
       "      <th>median</th>\n",
       "      <td>1.175280e+04</td>\n",
       "      <td>9.029833e+03</td>\n",
       "    </tr>\n",
       "    <tr>\n",
       "      <th>min</th>\n",
       "      <td>5.067653e+03</td>\n",
       "      <td>4.827782e+03</td>\n",
       "    </tr>\n",
       "    <tr>\n",
       "      <th>max</th>\n",
       "      <td>1.453250e+04</td>\n",
       "      <td>1.339662e+04</td>\n",
       "    </tr>\n",
       "  </tbody>\n",
       "</table>\n",
       "</div>"
      ],
      "text/plain": [
       "country                                 Argentina        Brazil\n",
       "GDP (current US$)            mean    4.690067e+11  1.879068e+12\n",
       "                             median  5.248199e+11  1.873288e+12\n",
       "                             min     1.987371e+11  8.916338e+11\n",
       "                             max     6.460753e+11  2.616156e+12\n",
       "GDP per capita (current US$) mean    1.086028e+04  9.401081e+03\n",
       "                             median  1.175280e+04  9.029833e+03\n",
       "                             min     5.067653e+03  4.827782e+03\n",
       "                             max     1.453250e+04  1.339662e+04"
      ]
     },
     "execution_count": 172,
     "metadata": {},
     "output_type": "execute_result"
    }
   ],
   "source": [
    "estadisticas"
   ]
  },
  {
   "cell_type": "markdown",
   "metadata": {},
   "source": [
    "\n",
    "Ejercicio 3 - Practicando con Matplotlib\n",
    "\n",
    "Armen dos gráficos distintos usando la librería Matplotlib (repasen Clase 4). Uno programandolo con el estilo pyplot y otro gráfico de estilo orientada a objetos\n"
   ]
  },
  {
   "cell_type": "code",
   "execution_count": null,
   "metadata": {},
   "outputs": [],
   "source": [
    "# Resolver acá estilo pyplot\n"
   ]
  },
  {
   "cell_type": "code",
   "execution_count": null,
   "metadata": {},
   "outputs": [],
   "source": [
    "# Resolver acá estilo orientado-objetos \n",
    "# Tip: aprovechar este estilo de programar una figura para hacerlo más lindo \n"
   ]
  },
  {
   "cell_type": "markdown",
   "metadata": {},
   "source": [
    "### Parte B"
   ]
  },
  {
   "cell_type": "markdown",
   "metadata": {},
   "source": [
    "#### Ejercicio 4\n",
    "De la página de noticias del [diario La Nación](https://www.lanacion.com.ar/) o cualquier diario que les interese, utilicen herramientas de web scraping para obtener los **links** de las noticias de la portada. Guarden los links obtenidos en un dataframe y expórtenlo a un archivo de excel.\n",
    "\n",
    "Nota 1: es posible que logren obtener los links a las noticias sin el dominio: \"https://www.lanacion.com.ar/\". De ser así, concatenen el dominio a la ruta del link obtenido, tal que se obtenga un link al que se pueda acceder. Es decir, que las cadenas de caracteres finales tendrán la forma: https://www.lanacion.com.ar/*texto_obtenido*)\n",
    "\n",
    "Nota 2: junto con su entrega, adjunten una captura de la página de noticias al momento de correr su código. Eso servirá al momento de la corrección para verificar que los links obtenidos hacen referencia a las noticias de ese día y hora."
   ]
  },
  {
   "cell_type": "code",
   "execution_count": 175,
   "metadata": {},
   "outputs": [],
   "source": [
    "# Resolver acá\n",
    "import requests\n",
    "from bs4 import BeautifulSoup\n",
    "import pandas as pd"
   ]
  },
  {
   "cell_type": "code",
   "execution_count": 177,
   "metadata": {},
   "outputs": [
    {
     "name": "stdout",
     "output_type": "stream",
     "text": [
      "Archivo 'noticias_lanacion.xlsx' guardado con éxito.\n"
     ]
    }
   ],
   "source": [
    "# URL de la portada del diario La Nación\n",
    "url = \"https://www.lanacion.com.ar/\"\n",
    "\n",
    "response = requests.get(url) #Traemos el contenido del html\n",
    "\n",
    "if response.status_code == 200:\n",
    "    # Parsear el HTML con BeautifulSoup\n",
    "    soup = BeautifulSoup(response.text, \"html.parser\")\n",
    "\n",
    "   \n",
    "    links = [] #Buscamos todos los links de las noticias\n",
    "    for link in soup.find_all(\"a\", href=True):  #Buscamos etiquetas <a> con href (links)\n",
    "        href = link[\"href\"]\n",
    "        if \"/nota/\" in href or \"/politica/\" in href or \"/deportes/\" in href:  #Filtramos noticias también\n",
    "            if not href.startswith(\"https\"): \n",
    "                href = \"https://www.lanacion.com.ar\" + href\n",
    "            links.append(href)\n",
    "\n",
    "\n",
    "    df = pd.DataFrame({\"Links de Noticias\": links})    #Creamos un DataFrame con los links obtenidos\n",
    "\n",
    "    # Guardar los links en un archivo Excel\n",
    "    df.to_excel(\"noticias_lanacion.xlsx\", index=False)\n",
    "\n",
    "    print(\"Archivo 'noticias_lanacion.xlsx' guardado con éxito.\")\n",
    "else:\n",
    "    print(f\"Error al obtener la página: Código {response.status_code}\")\n"
   ]
  },
  {
   "cell_type": "code",
   "execution_count": null,
   "metadata": {},
   "outputs": [],
   "source": []
  }
 ],
 "metadata": {
  "anaconda-cloud": {},
  "colab": {
   "name": "TP1 - Parte 1.ipynb",
   "provenance": []
  },
  "kernelspec": {
   "display_name": "Python [conda env:base] *",
   "language": "python",
   "name": "conda-base-py"
  },
  "language_info": {
   "codemirror_mode": {
    "name": "ipython",
    "version": 3
   },
   "file_extension": ".py",
   "mimetype": "text/x-python",
   "name": "python",
   "nbconvert_exporter": "python",
   "pygments_lexer": "ipython3",
   "version": "3.12.7"
  }
 },
 "nbformat": 4,
 "nbformat_minor": 4
}
