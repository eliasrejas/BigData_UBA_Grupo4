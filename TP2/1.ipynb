{
 "cells": [
  {
   "cell_type": "markdown",
   "id": "a34465e4-bd09-4886-8380-567cbc063e57",
   "metadata": {},
   "source": [
    "\n",
    "1.\tUtilizando información disponible en la página del INDEC, expliquen brevemente cómo se identifica a las personas desocupadas\r\n"
   ]
  },
  {
   "cell_type": "markdown",
   "id": "b31e72d5-6f9f-4512-830f-cba007c7c747",
   "metadata": {},
   "source": [
    "Las personas desocupadas según el INDEC son aquellas que buscan trabajo activamente y están disponibles para trabajar pero aún no lo consiguieron."
   ]
  },
  {
   "cell_type": "code",
   "execution_count": null,
   "id": "a43ffbb4-00c6-4f5c-a588-73df2774e009",
   "metadata": {},
   "outputs": [],
   "source": []
  }
 ],
 "metadata": {
  "kernelspec": {
   "display_name": "anaconda-panel-2023.05-py310",
   "language": "python",
   "name": "conda-env-anaconda-panel-2023.05-py310-py"
  },
  "language_info": {
   "codemirror_mode": {
    "name": "ipython",
    "version": 3
   },
   "file_extension": ".py",
   "mimetype": "text/x-python",
   "name": "python",
   "nbconvert_exporter": "python",
   "pygments_lexer": "ipython3",
   "version": "3.11.5"
  }
 },
 "nbformat": 4,
 "nbformat_minor": 5
}
