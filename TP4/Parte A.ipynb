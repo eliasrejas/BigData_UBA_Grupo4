{
 "cells": [
  {
   "cell_type": "markdown",
   "id": "539851e9-e312-4f41-bd18-9f4d7ccbb7ad",
   "metadata": {},
   "source": [
    "A. Enfoque de validación\n",
    "Utilicen la base respondieron. Para cada año, dividan las observaciones en\n",
    "una base de prueba (test) y una de entrenamiento (train) utilizando el\n",
    "comando train_test_split. La base de entrenamiento debe comprender el\n",
    "70% de los datos, y la semilla a utilizar (random state instance) debe ser 444.\n",
    "Establezca a desocupado como su variable dependiente en la base de\n",
    "entrenamiento (vector y). El resto de las variables seleccionadas serán las\n",
    "variables independientes (matriz X). Recuerden agregar la columna de unos\n",
    "(1).\n",
    "1. Cree una tabla de diferencia de medias entre la base de entrenamiento\n",
    "y la de testeo de las características seleccionadas en su matriz X.\n",
    "Comente la tabla de la diferencia de medias de sus variables entre\n",
    "entrenamiento y testeo."
   ]
  },
  {
   "cell_type": "code",
   "execution_count": 9,
   "id": "832729eb-2b83-4de6-b110-6f9a4c8f955f",
   "metadata": {},
   "outputs": [],
   "source": [
    "import pandas as pd\n",
    "import numpy as np\n",
    "from sklearn.model_selection import train_test_split\n",
    "\n",
    "# Cargar el archivo Excel\n",
    "respondieron = pd.read_excel('respondieron.xlsx')\n",
    "\n",
    "# Filtrar años 2004 y 2024\n",
    "respondieron = respondieron[respondieron['AÑO'].isin([2004, 2024])]\n",
    "\n",
    "# Crear la variable binaria 'desocupado'\n",
    "respondieron['desocupado'] = (respondieron['ESTADO'] == 2).astype(int)\n",
    "\n",
    "# Variables independientes\n",
    "variables_x = ['P21', 'ingreso_ajustado', 'salario_semanal', 'edad', 'horastrab', 'edad2', 'educ']\n",
    "\n",
    "# Recorrer por año\n",
    "for anio in [2004, 2024]:\n",
    "    datos = respondieron[respondieron['AÑO'] == anio].copy()\n",
    "    \n",
    "    # Crear X e y\n",
    "    X = datos[variables_x].copy()\n",
    "    X['constante'] = 1\n",
    "    y = datos['desocupado']\n",
    "    \n",
    "    # Combinar X + y + año\n",
    "    data = X.copy()\n",
    "    data['desocupado'] = y\n",
    "    data['AÑO'] = anio  # conservar la columna de año\n",
    "    \n",
    "    # Dividir en entrenamiento y prueba\n",
    "    train, test = train_test_split(data, test_size=0.3, random_state=444)\n",
    "    \n",
    "    # Guardar a archivos Excel\n",
    "    train.to_excel(f'base_entrenamiento_{anio}.xlsx', index=False)\n",
    "    test.to_excel(f'base_prueba_{anio}.xlsx', index=False)\n",
    "\n"
   ]
  },
  {
   "cell_type": "code",
   "execution_count": 11,
   "id": "216aaaa6-3ef7-4708-abbf-342fc4144199",
   "metadata": {},
   "outputs": [
    {
     "name": "stdout",
     "output_type": "stream",
     "text": [
      "📊 Diferencias de medias entre bases de ENTRENAMIENTO (2004 vs 2024):\n",
      "                    Media 2004     Media 2024  Diferencia Absoluta\n",
      "P21                 700.654373  352600.057790        351899.403417\n",
      "ingreso_ajustado  36052.788988  352600.057790        316547.268802\n",
      "salario_semanal     901.319725    8815.001445          7913.681720\n",
      "edad                 38.169652      40.724646             2.554994\n",
      "horastrab            35.879874      35.190935             0.688939\n",
      "edad2              1600.306639    1806.294051           205.987412\n",
      "educ                  5.384181       5.283333             0.100847\n",
      "constante             1.000000       1.000000             0.000000 \n",
      "\n",
      "📊 Diferencias de medias entre bases de PRUEBA (2004 vs 2024):\n",
      "                    Media 2004     Media 2024  Diferencia Absoluta\n",
      "P21                 814.776961  339880.916777        339066.139816\n",
      "ingreso_ajustado  41925.067438  339880.916777        297955.849339\n",
      "salario_semanal    1048.126686    8497.022919          7448.896233\n",
      "edad                 38.259804      40.857332             2.597528\n",
      "horastrab            35.715686      34.372523             1.343163\n",
      "edad2              1606.220588    1822.101717           215.881129\n",
      "educ                  5.514644       5.606811             0.092167\n",
      "constante             1.000000       1.000000             0.000000\n"
     ]
    }
   ],
   "source": [
    "import pandas as pd\n",
    "\n",
    "# Variables independientes (matriz X)\n",
    "variables_x = ['P21', 'ingreso_ajustado', 'salario_semanal', 'edad',\n",
    "               'horastrab', 'edad2', 'educ', 'constante']\n",
    "\n",
    "# Función para calcular tabla de diferencia de medias entre dos archivos\n",
    "def comparar_medias(archivo_2004, archivo_2024, variables):\n",
    "    # Leer archivos\n",
    "    df_2004 = pd.read_excel(archivo_2004)\n",
    "    df_2024 = pd.read_excel(archivo_2024)\n",
    "\n",
    "    # Calcular medias\n",
    "    mean_2004 = df_2004[variables].mean()\n",
    "    mean_2024 = df_2024[variables].mean()\n",
    "    diff_abs = (mean_2004 - mean_2024).abs()\n",
    "\n",
    "    # Tabla resumen\n",
    "    tabla = pd.DataFrame({\n",
    "        'Media 2004': mean_2004,\n",
    "        'Media 2024': mean_2024,\n",
    "        'Diferencia Absoluta': diff_abs\n",
    "    })\n",
    "\n",
    "    return tabla\n",
    "\n",
    "# Comparar entrenamiento 2004 vs 2024\n",
    "tabla_diff_train = comparar_medias('base_entrenamiento_2004.xlsx', 'base_entrenamiento_2024.xlsx', variables_x)\n",
    "print(\"📊 Diferencias de medias entre bases de ENTRENAMIENTO (2004 vs 2024):\")\n",
    "print(tabla_diff_train, \"\\n\")\n",
    "\n",
    "# Comparar prueba 2004 vs 2024\n",
    "tabla_diff_test = comparar_medias('base_prueba_2004.xlsx', 'base_prueba_2024.xlsx', variables_x)\n",
    "print(\"📊 Diferencias de medias entre bases de PRUEBA (2004 vs 2024):\")\n",
    "print(tabla_diff_test)\n"
   ]
  },
  {
   "cell_type": "markdown",
   "id": "00ea7411-4d87-4b50-b5b5-35d21e520bcb",
   "metadata": {},
   "source": [
    "Como podemos observar los datos entre la base de entrenamiento de 2004 y la de prueba del mismo año son levemente distintas entre sí en los ingresos habituales (P21), por lo tanto los ingresos ajustados y el salario semanal van a ser distintos en la misma escala a los valores de 2024. En cambio P21, cambia muy poco en la base de entrenamiento de 2024 con la de prueba de 2024 por lo que podemos afirmar que por los casos tomados en la semilla 444 la varianza en el 2004 es mayor a la de 2024 en el ingreso. Esto en muy pequeña medida sugiere mayor igualdad de ingresos. De todas formas los patrones son similares entre entrenamiento y prueba, más que nada en las otras variables no mencionadas. \n",
    "Entre el 2004 y el 2024 podemos observar claramente las consecuencias inflacionarias ya que el ingreso subió más de 40 veces su valor y el ingreso real cayó casi un 20% teniendo en cuenta la base de prueba (la más real). La edad media de trabajo aumentó mas de dos años. Si bien puede haber sido por muchas razones creemos que esto es principalmente debido al aumento de la inmigración interna de jóvenes del interior buscando nuevas oportunidades en Buenos Aires u otros lugares más desarrollados durante esas décadas. Las horas trabajadas disminuyeron en promedio más de una hora quizás debido a las nuevas tecnologías que ahorran tiempo. Por ejemplo un celular para comunicarse más rápido. La educación casi no varía realmente. \n",
    "Por último la variable constante o intercepto ayuda a los modelos a ser más flexibles y ajustarse mejor a los datos ya que no tiene que pasar por el punto de origen.\n"
   ]
  }
 ],
 "metadata": {
  "kernelspec": {
   "display_name": "Python 3 (ipykernel)",
   "language": "python",
   "name": "python3"
  },
  "language_info": {
   "codemirror_mode": {
    "name": "ipython",
    "version": 3
   },
   "file_extension": ".py",
   "mimetype": "text/x-python",
   "name": "python",
   "nbconvert_exporter": "python",
   "pygments_lexer": "ipython3",
   "version": "3.12.7"
  }
 },
 "nbformat": 4,
 "nbformat_minor": 5
}
